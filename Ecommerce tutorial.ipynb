{
 "cells": [
  {
   "cell_type": "code",
   "execution_count": 1,
   "id": "f71feb98-3b8b-4651-90ac-38ae93e8d927",
   "metadata": {},
   "outputs": [
    {
     "name": "stdout",
     "output_type": "stream",
     "text": [
      "\n",
      "Options: \n",
      "1. Add to cart\n",
      "2. Remove from cart\n",
      "3. View total amount\n",
      "4. Apply discount\n",
      "5. Checkout\n",
      "6. Exit\n"
     ]
    },
    {
     "name": "stdin",
     "output_type": "stream",
     "text": [
      "Enter your choice:  1\n",
      "Enter product name (Shirt/Shoes/Jeans/Belt/Socks):  Shirt\n",
      "Enter quantity:  1\n"
     ]
    },
    {
     "name": "stdout",
     "output_type": "stream",
     "text": [
      "Added 1 of Shirt to the cart.\n",
      "\n",
      "Options: \n",
      "1. Add to cart\n",
      "2. Remove from cart\n",
      "3. View total amount\n",
      "4. Apply discount\n",
      "5. Checkout\n",
      "6. Exit\n"
     ]
    },
    {
     "name": "stdin",
     "output_type": "stream",
     "text": [
      "Enter your choice:  1\n",
      "Enter product name (Shirt/Shoes/Jeans/Belt/Socks):  Shoes\n",
      "Enter quantity:  2\n"
     ]
    },
    {
     "name": "stdout",
     "output_type": "stream",
     "text": [
      "Added 2 of Shoes to the cart.\n",
      "\n",
      "Options: \n",
      "1. Add to cart\n",
      "2. Remove from cart\n",
      "3. View total amount\n",
      "4. Apply discount\n",
      "5. Checkout\n",
      "6. Exit\n"
     ]
    },
    {
     "name": "stdin",
     "output_type": "stream",
     "text": [
      "Enter your choice:  3\n"
     ]
    },
    {
     "name": "stdout",
     "output_type": "stream",
     "text": [
      "Total amount in cart: 3500.0\n",
      "\n",
      "Options: \n",
      "1. Add to cart\n",
      "2. Remove from cart\n",
      "3. View total amount\n",
      "4. Apply discount\n",
      "5. Checkout\n",
      "6. Exit\n"
     ]
    },
    {
     "name": "stdin",
     "output_type": "stream",
     "text": [
      "Enter your choice:  4\n",
      "Enter discount percentage:  15\n"
     ]
    },
    {
     "name": "stdout",
     "output_type": "stream",
     "text": [
      "Discount of 15.0% applied. Total after discount: 2975.0\n",
      "\n",
      "Options: \n",
      "1. Add to cart\n",
      "2. Remove from cart\n",
      "3. View total amount\n",
      "4. Apply discount\n",
      "5. Checkout\n",
      "6. Exit\n"
     ]
    },
    {
     "name": "stdin",
     "output_type": "stream",
     "text": [
      "Enter your choice:  5\n"
     ]
    },
    {
     "name": "stdout",
     "output_type": "stream",
     "text": [
      "Checkout: Total amount after 15.0% discount is 2975.0.\n",
      "How would you like to pay?\n",
      "1. Cash\n",
      "2. Card\n",
      "3. UPI\n"
     ]
    },
    {
     "name": "stdin",
     "output_type": "stream",
     "text": [
      "Enter 1, 2, or 3:  3\n"
     ]
    },
    {
     "name": "stdout",
     "output_type": "stream",
     "text": [
      "Checkout complete. Thank you for shopping!\n"
     ]
    }
   ],
   "source": [
    "class Product:\n",
    "    def __init__(self, name, price, stock):\n",
    "        self.name = name\n",
    "        self.price = price\n",
    "        self.stock = stock\n",
    "\n",
    "    def update_stock(self, new_stock):\n",
    "        self.stock = new_stock\n",
    "        print(f\"Stock for {self.name} updated to {self.stock}.\")\n",
    "\n",
    "class ShoppingCart:\n",
    "    def __init__(self):\n",
    "        self.product_items = []\n",
    "        self.total_amount = 0.0\n",
    "        self.discount_percentage = 0.0  \n",
    "\n",
    "    def add_to_cart(self, product, quantity):\n",
    "        if product.stock >= quantity:\n",
    "            self.product_items.append((product, quantity))\n",
    "            self.total_amount += product.price * quantity\n",
    "            product.stock -= quantity\n",
    "            print(f\"Added {quantity} of {product.name} to the cart.\")\n",
    "        else:\n",
    "            print(f\"Not enough stock for {product.name}.\")\n",
    "\n",
    "    def remove_from_cart(self, product, quantity):\n",
    "        for item in self.product_items:\n",
    "            if item[0] == product:\n",
    "                if item[1] >= quantity:\n",
    "                    self.product_items.remove(item)\n",
    "                    self.total_amount -= product.price * quantity\n",
    "                    product.stock += quantity\n",
    "                    if item[1] > quantity:\n",
    "                        self.product_items.append((product, item[1] - quantity))\n",
    "                    print(f\"Removed {quantity} of {product.name} from the cart.\")\n",
    "                else:\n",
    "                    print(f\"Not enough quantity of {product.name} in the cart to remove.\")\n",
    "                return\n",
    "        print(f\"{product.name} is not in the cart.\")\n",
    "\n",
    "    def calculate_total(self):\n",
    "        total = 0.0\n",
    "        for item, quantity in self.product_items:\n",
    "            total += item.price * quantity\n",
    "        return total\n",
    "\n",
    "    def apply_discount(self, discount_percentage):\n",
    "        self.discount_percentage = discount_percentage\n",
    "        total = self.calculate_total()\n",
    "        discount = total * (discount_percentage / 100)\n",
    "        discounted_total = total - discount\n",
    "        print(f\"Discount of {discount_percentage}% applied. Total after discount: {discounted_total}\")\n",
    "        return discounted_total\n",
    "\n",
    "    def checkout(self):\n",
    "        total = self.calculate_total()\n",
    "        if self.discount_percentage > 0:\n",
    "            discount = total * (self.discount_percentage / 100)\n",
    "            total -= discount\n",
    "            print(f\"Checkout: Total amount after {self.discount_percentage}% discount is {total}.\")\n",
    "        else:\n",
    "            print(f\"Checkout: Total amount is {total}.\")\n",
    "        self.product_items = []\n",
    "        self.total_amount = 0.0\n",
    "        self.discount_percentage = 0.0\n",
    "\n",
    "        print(\"How would you like to pay?\")\n",
    "        print(\"1. Cash\\n2. Card\\n3. UPI\")\n",
    "        pay = int(input(\"Enter 1, 2, or 3: \"))\n",
    "\n",
    "        if pay == 1:\n",
    "            rec = float(input(\"Enter received amount: \"))\n",
    "            if rec < total:\n",
    "                print(\"Not enough money provided.\")\n",
    "            elif rec == total:\n",
    "                print(\"Checkout complete. Thank you for shopping!\")\n",
    "            else:\n",
    "                bal = rec - total\n",
    "                print(f\"Your balance is {bal:.2f}\")\n",
    "                print(\"Checkout complete. Thank you for shopping!\")\n",
    "        else:\n",
    "            print(\"Checkout complete. Thank you for shopping!\")\n",
    "\n",
    "\n",
    "shirt = Product(\"Shirt\", 500, 10)\n",
    "shoes = Product(\"Shoes\", 1500, 5)\n",
    "jeans = Product(\"Jeans\", 1200, 7)\n",
    "belt = Product(\"Belt\", 300, 20)\n",
    "socks = Product(\"Socks\", 100, 50)\n",
    "\n",
    "cart = ShoppingCart()\n",
    "\n",
    "while True:\n",
    "    print(\"\\nOptions: \")\n",
    "    print(\"1. Add to cart\")\n",
    "    print(\"2. Remove from cart\")\n",
    "    print(\"3. View total amount\")\n",
    "    print(\"4. Apply discount\")\n",
    "    print(\"5. Checkout\")\n",
    "    print(\"6. Exit\")\n",
    "\n",
    "    choice = input(\"Enter your choice: \")\n",
    "\n",
    "    if choice == '1':\n",
    "        product_name = input(\"Enter product name (Shirt/Shoes/Jeans/Belt/Socks): \")\n",
    "        quantity = int(input(\"Enter quantity: \"))\n",
    "\n",
    "        if product_name.lower() == \"shirt\":\n",
    "            cart.add_to_cart(shirt, quantity)\n",
    "        elif product_name.lower() == \"shoes\":\n",
    "            cart.add_to_cart(shoes, quantity)\n",
    "        elif product_name.lower() == \"jeans\":\n",
    "            cart.add_to_cart(jeans, quantity)\n",
    "        elif product_name.lower() == \"belt\":\n",
    "            cart.add_to_cart(belt, quantity)\n",
    "        elif product_name.lower() == \"socks\":\n",
    "            cart.add_to_cart(socks, quantity)\n",
    "        else:\n",
    "            print(\"Invalid product name.\")\n",
    "\n",
    "    elif choice == '2':\n",
    "        product_name = input(\"Enter product name to remove (Shirt/Shoes/Jeans/Belt/Socks): \")\n",
    "        quantity = int(input(\"Enter quantity to remove: \"))\n",
    "\n",
    "        if product_name.lower() == \"shirt\":\n",
    "            cart.remove_from_cart(shirt, quantity)\n",
    "        elif product_name.lower() == \"shoes\":\n",
    "            cart.remove_from_cart(shoes, quantity)\n",
    "        elif product_name.lower() == \"jeans\":\n",
    "            cart.remove_from_cart(jeans, quantity)\n",
    "        elif product_name.lower() == \"belt\":\n",
    "            cart.remove_from_cart(belt, quantity)\n",
    "        elif product_name.lower() == \"socks\":\n",
    "            cart.remove_from_cart(socks, quantity)\n",
    "        else:\n",
    "            print(\"Invalid product name.\")\n",
    "\n",
    "    elif choice == '3':\n",
    "        print(f\"Total amount in cart: {cart.calculate_total()}\")\n",
    "\n",
    "    elif choice == '4':\n",
    "        discount_percentage = float(input(\"Enter discount percentage: \"))\n",
    "        cart.apply_discount(discount_percentage)\n",
    "\n",
    "    elif choice == '5':\n",
    "        cart.checkout()\n",
    "        break\n",
    "\n",
    "    elif choice == '6':\n",
    "        print(\"Exiting... Thank you!\")\n",
    "        break\n",
    "\n",
    "    else:\n",
    "        print(\"Invalid choice. Please try again.\")\n"
   ]
  },
  {
   "cell_type": "code",
   "execution_count": null,
   "id": "f0fc1f09-2f69-4f98-a650-b14e7c340ab7",
   "metadata": {},
   "outputs": [],
   "source": []
  }
 ],
 "metadata": {
  "kernelspec": {
   "display_name": "Python 3 (ipykernel)",
   "language": "python",
   "name": "python3"
  },
  "language_info": {
   "codemirror_mode": {
    "name": "ipython",
    "version": 3
   },
   "file_extension": ".py",
   "mimetype": "text/x-python",
   "name": "python",
   "nbconvert_exporter": "python",
   "pygments_lexer": "ipython3",
   "version": "3.12.4"
  }
 },
 "nbformat": 4,
 "nbformat_minor": 5
}
