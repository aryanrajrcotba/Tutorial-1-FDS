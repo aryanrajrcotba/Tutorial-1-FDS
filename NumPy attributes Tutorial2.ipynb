{
 "cells": [
  {
   "cell_type": "code",
   "execution_count": 7,
   "id": "9166cea9-2b9b-414f-84b5-60a5b97d410e",
   "metadata": {},
   "outputs": [
    {
     "name": "stdout",
     "output_type": "stream",
     "text": [
      "x1: [1 3 0 7]\n",
      "x2: [2 0 1 1]\n",
      "x3: [0 1 3 1]\n",
      "x4: [3 4 4 9]\n"
     ]
    }
   ],
   "source": [
    "import numpy as np\n",
    "x1 = np.array([1, 3, 0, 7])\n",
    "x2 = np.array([2, 0, 1, 1])\n",
    "x3 = np.array([0, 1, 3, 1])\n",
    "x4 = x1+x2+x3\n",
    "\n",
    "print(\"x1:\", x1)\n",
    "print(\"x2:\", x2)\n",
    "print(\"x3:\", x3)\n",
    "print(\"x4:\", x4)"
   ]
  },
  {
   "cell_type": "code",
   "execution_count": 9,
   "id": "d04259b7-e92c-46d0-b7cf-2de6748438ca",
   "metadata": {},
   "outputs": [
    {
     "name": "stdout",
     "output_type": "stream",
     "text": [
      "(2, 4)\n",
      "(2, 2, 2)\n"
     ]
    }
   ],
   "source": [
    "import numpy as np\n",
    "arr1 = np.array([[1, 3, 5, 7], [2, 4, 6, 8]]) \n",
    "arr2 = np.array([[[1, 2], [3, 4]], [[5, 6], [7, 8]]]) \n",
    "print(arr1.shape)\n",
    "print(arr2.shape)"
   ]
  },
  {
   "cell_type": "code",
   "execution_count": 5,
   "id": "54d63406-ce42-4c8c-a4f9-636a980707b0",
   "metadata": {},
   "outputs": [
    {
     "name": "stdout",
     "output_type": "stream",
     "text": [
      "1\n"
     ]
    }
   ],
   "source": [
    "import numpy as np \n",
    "arr = np.array([1, 2, 3, 4])   \n",
    "aryan = arr.ndim \n",
    "print (aryan)"
   ]
  },
  {
   "cell_type": "code",
   "execution_count": 6,
   "id": "d837150c-2f7a-42bb-ab0e-39985dc15538",
   "metadata": {},
   "outputs": [
    {
     "name": "stdout",
     "output_type": "stream",
     "text": [
      "[[1 4]\n",
      " [2 5]\n",
      " [3 6]]\n"
     ]
    }
   ],
   "source": [
    "import numpy as np \n",
    "arr = np.array([[1, 2, 3], [4, 5, 6]])\t \n",
    "transposed_array = arr.T \n",
    "print(transposed_array)"
   ]
  },
  {
   "cell_type": "code",
   "execution_count": 11,
   "id": "029642ca-8c9c-46bc-a062-ad073853948e",
   "metadata": {},
   "outputs": [
    {
     "name": "stdout",
     "output_type": "stream",
     "text": [
      "[ True  True  True  True False False]\n"
     ]
    }
   ],
   "source": [
    "import numpy as np\n",
    "abc = np.array([1, 2, 3, 4, 5, 6])\n",
    "print(abc.__le__(4))\n"
   ]
  },
  {
   "cell_type": "code",
   "execution_count": 10,
   "id": "9b522781-6869-44cf-aa23-ff390d2fbf6f",
   "metadata": {},
   "outputs": [
    {
     "name": "stdout",
     "output_type": "stream",
     "text": [
      "[1 2 3 4 5 6]\n",
      "\n",
      "int32\n"
     ]
    }
   ],
   "source": [
    "import numpy as np \n",
    "aryan = np.array([1 + 2j, 2 + 3j])  \n",
    "aryan = np.real(gfg)   \n",
    "print(aryan, end ='\\n\\n') \n",
    "print(np.real(aryan).dtype)"
   ]
  },
  {
   "cell_type": "code",
   "execution_count": null,
   "id": "0acbaf1d-67fe-4539-a980-5577b590b782",
   "metadata": {},
   "outputs": [],
   "source": []
  }
 ],
 "metadata": {
  "kernelspec": {
   "display_name": "Python 3 (ipykernel)",
   "language": "python",
   "name": "python3"
  },
  "language_info": {
   "codemirror_mode": {
    "name": "ipython",
    "version": 3
   },
   "file_extension": ".py",
   "mimetype": "text/x-python",
   "name": "python",
   "nbconvert_exporter": "python",
   "pygments_lexer": "ipython3",
   "version": "3.12.4"
  }
 },
 "nbformat": 4,
 "nbformat_minor": 5
}
