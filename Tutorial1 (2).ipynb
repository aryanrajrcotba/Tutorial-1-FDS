{
 "cells": [
  {
   "cell_type": "raw",
   "id": "bd6c18f8-b70d-4726-b5ee-acdb84dbf4d7",
   "metadata": {},
   "source": [
    "Create the 1D Array"
   ]
  },
  {
   "cell_type": "code",
   "execution_count": 25,
   "id": "a5c91ec5-aec6-4960-8adb-dfcf2d313236",
   "metadata": {},
   "outputs": [
    {
     "name": "stdout",
     "output_type": "stream",
     "text": [
      "{1, 2, 3}\n"
     ]
    }
   ],
   "source": [
    "#1\n",
    "import numpy as np\n",
    "arr=np.array({1,2,3})\n",
    "print(arr)"
   ]
  },
  {
   "cell_type": "code",
   "execution_count": 26,
   "id": "628d1e98-b4ec-4acf-aa68-9bd06085c1f5",
   "metadata": {},
   "outputs": [
    {
     "name": "stdout",
     "output_type": "stream",
     "text": [
      "[[ 0  1  2  3  4]\n",
      " [ 5  6  7  8  9]\n",
      " [10 11 12 13 14]\n",
      " [15 16 17 18 19]\n",
      " [20 21 22 23 24]\n",
      " [25 26 27 28 29]]\n"
     ]
    }
   ],
   "source": [
    "#2\n",
    "import numpy as np\n",
    "arr=np.arange(30).reshape(6,5)\n",
    "print(arr)"
   ]
  },
  {
   "cell_type": "code",
   "execution_count": 27,
   "id": "af3407a2-004a-4a06-80fa-528a8c20487e",
   "metadata": {},
   "outputs": [
    {
     "data": {
      "text/plain": [
       "array([[0., 0., 0., 0.],\n",
       "       [0., 0., 0., 0.]])"
      ]
     },
     "execution_count": 27,
     "metadata": {},
     "output_type": "execute_result"
    }
   ],
   "source": [
    "#3\n",
    "import numpy as np\n",
    "np.zeros((2,4))"
   ]
  },
  {
   "cell_type": "code",
   "execution_count": 28,
   "id": "f6776e79-7217-428f-91a4-4558e537033e",
   "metadata": {},
   "outputs": [
    {
     "data": {
      "text/plain": [
       "array([[1., 1., 1., 1., 1., 1.],\n",
       "       [1., 1., 1., 1., 1., 1.],\n",
       "       [1., 1., 1., 1., 1., 1.]])"
      ]
     },
     "execution_count": 28,
     "metadata": {},
     "output_type": "execute_result"
    }
   ],
   "source": [
    "#3\n",
    "import numpy as np\n",
    "np.ones((3,6))"
   ]
  },
  {
   "cell_type": "code",
   "execution_count": 29,
   "id": "9097afc6-0731-4401-aa61-b3755fa7f781",
   "metadata": {},
   "outputs": [
    {
     "data": {
      "text/plain": [
       "array([[7, 7],\n",
       "       [7, 7]])"
      ]
     },
     "execution_count": 29,
     "metadata": {},
     "output_type": "execute_result"
    }
   ],
   "source": [
    "#4\n",
    "# create full function with 2D filled of 7\n",
    "import numpy as np\n",
    "np.full((2,2),7)"
   ]
  },
  {
   "cell_type": "code",
   "execution_count": 30,
   "id": "0c06e30e-3b09-4281-b2a6-577f04bbd88b",
   "metadata": {},
   "outputs": [
    {
     "name": "stdout",
     "output_type": "stream",
     "text": [
      "[[ 0  1  2  3  4  5  6  7]\n",
      " [ 8  9 10 11 12 13 14 15]\n",
      " [16 17 18 19 20 21 22 23]\n",
      " [24 25 26 27 28 29 30 31]\n",
      " [32 33 34 35 36 37 38 39]\n",
      " [40 41 42 43 44 45 46 47]\n",
      " [48 49 50 51 52 53 54 55]\n",
      " [56 57 58 59 60 61 62 63]]\n",
      "[[16 17 18]\n",
      " [24 25 26]\n",
      " [32 33 34]]\n",
      "[[ 0  1  2  3  4]\n",
      " [ 8  9 10 11 12]]\n",
      "[[18 19]\n",
      " [26 27]]\n",
      "[[45 46]\n",
      " [53 54]]\n",
      "[[36 37 38]\n",
      " [44 45 46]\n",
      " [52 53 54]]\n"
     ]
    }
   ],
   "source": [
    "#5\n",
    "#impliment slicing\n",
    "import numpy as np\n",
    "arr = np.arange(64).reshape(8,8)\n",
    "#Prt 1\n",
    "print(arr[:,:])\n",
    "#Prt 2\n",
    "print(arr[2:5, 0:3])\n",
    "#Prt 3\n",
    "print(arr[0:2, 0:5])\n",
    "#Prt 4\n",
    "print(arr[2:4, 2:4])\n",
    "#Prt 5\n",
    "print(arr[-3:-1, -3:-1])\n",
    "#Prt 6\n",
    "print(arr[-4:-1, -4:-1])"
   ]
  },
  {
   "cell_type": "code",
   "execution_count": 31,
   "id": "e60e12a0-0826-4349-a50a-518ca8d1b152",
   "metadata": {},
   "outputs": [
    {
     "name": "stdout",
     "output_type": "stream",
     "text": [
      "1\n",
      "2\n",
      "3\n"
     ]
    }
   ],
   "source": [
    "#6 \n",
    "#Impliment to find out dimension\n",
    "import numpy as np\n",
    "arr = np.array([1, 2, 3, 4])\n",
    "arr1 = np.array([[1, 2, 3], [4, 5, 6]])\n",
    "arr2 = np.array([[[1, 2, 3], [4, 5, 6]], [[7, 8, 9], [10, 11, 12]]])\n",
    "print(arr.ndim)\n",
    "print(arr1.ndim)\n",
    "print(arr2.ndim)"
   ]
  },
  {
   "cell_type": "code",
   "execution_count": 32,
   "id": "7191d1e7-82a3-4c72-9e77-e19c516b6500",
   "metadata": {},
   "outputs": [
    {
     "name": "stdout",
     "output_type": "stream",
     "text": [
      "[[[[[[[[2 2 2 2]]]]]]]]\n"
     ]
    }
   ],
   "source": [
    "#7\n",
    "#Create 8D Array with value [2, 2, 2, 2]\n",
    "import numpy as np\n",
    "arr = np.array([2, 2, 2, 2], ndmin = 8)\n",
    "print(arr)"
   ]
  },
  {
   "cell_type": "code",
   "execution_count": null,
   "id": "eab706e5-0908-4d1e-b5b6-063cb2241d4d",
   "metadata": {},
   "outputs": [],
   "source": []
  }
 ],
 "metadata": {
  "kernelspec": {
   "display_name": "Python 3 (ipykernel)",
   "language": "python",
   "name": "python3"
  },
  "language_info": {
   "codemirror_mode": {
    "name": "ipython",
    "version": 3
   },
   "file_extension": ".py",
   "mimetype": "text/x-python",
   "name": "python",
   "nbconvert_exporter": "python",
   "pygments_lexer": "ipython3",
   "version": "3.12.4"
  }
 },
 "nbformat": 4,
 "nbformat_minor": 5
}
